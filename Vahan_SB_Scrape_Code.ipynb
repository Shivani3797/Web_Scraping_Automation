{
 "cells": [
  {
   "cell_type": "code",
   "execution_count": 86,
   "id": "0e7771cf",
   "metadata": {},
   "outputs": [],
   "source": [
    "#importing required libraries\n",
    "import selenium\n",
    "from selenium import webdriver\n",
    "import time\n",
    "from random import randint\n",
    "import pandas as pd\n",
    "from selenium.common.exceptions import NoSuchElementException\n",
    "from bs4 import BeautifulSoup\n",
    "from selenium import webdriver\n",
    "from selenium.webdriver.common.action_chains import ActionChains\n",
    "from selenium.webdriver.support.ui import WebDriverWait\n",
    "from selenium.webdriver.support import expected_conditions as EC\n",
    "from selenium.webdriver.common.by import By\n",
    "import os\n",
    "from selenium.common.exceptions import NoSuchElementException , ElementClickInterceptedException, StaleElementReferenceException\n",
    "from urllib.request import urlopen\n",
    "from bs4 import BeautifulSoup\n",
    "import re\n",
    "import io"
   ]
  },
  {
   "cell_type": "code",
   "execution_count": 87,
   "id": "22d43fd1",
   "metadata": {},
   "outputs": [
    {
     "name": "stderr",
     "output_type": "stream",
     "text": [
      "<ipython-input-87-b5439261ffb0>:2: DeprecationWarning: executable_path has been deprecated, please pass in a Service object\n",
      "  driver = webdriver.Chrome(r'C:\\chromedriver_win32\\chromedriver.exe')\n"
     ]
    }
   ],
   "source": [
    "#locating chrome driver in your local machine \n",
    "driver = webdriver.Chrome(r'C:\\chromedriver_win32\\chromedriver.exe')\n",
    "#get the url to be scraped\n",
    "driver.get('https://vahan.parivahan.gov.in/vahan4dashboard/vahan/view/reportview.xhtml')"
   ]
  },
  {
   "cell_type": "code",
   "execution_count": 91,
   "id": "4f2cda1c",
   "metadata": {},
   "outputs": [
    {
     "name": "stdout",
     "output_type": "stream",
     "text": [
      "I am in Y-axis dropdown,clicked maker\n"
     ]
    }
   ],
   "source": [
    "# for each_Y_element in Y_axis_clickrange:\n",
    "#     try:\n",
    "Y_axis_dropdown=driver.find_element('xpath','/html/body/form/div[2]/div/div/div[1]/div[3]/div[2]/div[1]/div[1]/div/div[3]/span')\n",
    "driver.execute_script(\"arguments[0].click();\", Y_axis_dropdown)\n",
    "time.sleep(2)\n",
    "print(\"I am in Y-axis dropdown,clicked maker\")\n",
    "driver.find_element(\"id\",\"yaxisVar_4\").click() #click on the 'Maker'\n",
    "#         print(Y_axis_options)\n",
    "#         time.sleep(1)\n",
    "#     except Exception as e:\n",
    "#         break"
   ]
  },
  {
   "cell_type": "code",
   "execution_count": 93,
   "id": "c5f76480",
   "metadata": {},
   "outputs": [
    {
     "name": "stdout",
     "output_type": "stream",
     "text": [
      "I am in X-axis dropdown\n"
     ]
    }
   ],
   "source": [
    "# for X_axis_click in X_axis_clickrange:\n",
    "#     try:\n",
    "X_axis_dropdown=driver.find_element(\"xpath\",'/html/body/form/div[2]/div/div/div[1]/div[3]/div[2]/div[1]/div[2]/div/div[3]')\n",
    "driver.execute_script(\"arguments[0].click();\", X_axis_dropdown)\n",
    "print(\"I am in X-axis dropdown\")\n",
    "time.sleep(2)\n",
    "X_axis_options=driver.find_element(\"id\",'xaxisVar_6')\n",
    "X_axis_options.click()\n",
    "#     except Exception:\n",
    "#         break"
   ]
  },
  {
   "cell_type": "code",
   "execution_count": 24,
   "id": "1d2ffd35",
   "metadata": {},
   "outputs": [
    {
     "name": "stdout",
     "output_type": "stream",
     "text": [
      "I am in year dropdown\n"
     ]
    }
   ],
   "source": [
    "#Select Year_Type:\n",
    "year_type_dropdown=driver.find_element(\"xpath\",'/html/body/form/div[2]/div/div/div[1]/div[3]/div[2]/div[2]/div[1]/div/div[3]')\n",
    "driver.execute_script(\"arguments[0].click();\", year_type_dropdown)\n",
    "print(\"I am in year dropdown\")\n",
    "time.sleep(2)\n",
    "driver.find_element(\"id\",'selectedYearType_1').click()# Select 'Financial year'"
   ]
  },
  {
   "cell_type": "code",
   "execution_count": 94,
   "id": "38c61f73",
   "metadata": {},
   "outputs": [
    {
     "name": "stdout",
     "output_type": "stream",
     "text": [
      "I am in year dropdown\n",
      "2021\n"
     ]
    }
   ],
   "source": [
    "#Select year\n",
    "year_dropdown = driver.find_element(\"xpath\",'/html/body/form/div[2]/div/div/div[1]/div[3]/div[2]/div[2]/div[2]/div/div[3]')\n",
    "driver.execute_script(\"arguments[0].click();\", year_dropdown)\n",
    "print(\"I am in year dropdown\")\n",
    "time.sleep(2)\n",
    "Year = driver.find_element(\"id\",'selectedYear_2').text\n",
    "driver.find_element(\"id\",'selectedYear_2').click()# Select '2021-2022'\n",
    "print(Year)"
   ]
  },
  {
   "cell_type": "code",
   "execution_count": 101,
   "id": "36043f75",
   "metadata": {},
   "outputs": [],
   "source": [
    "#click on the content closed button\n",
    "driver.find_element(\"xpath\",'/html/body/form/div[2]/div/div/div[3]/div/div[3]/div/span/a/span').click()\n",
    "#/html/body/form/div[2]/div/div/div[3]/div/div[3]/div/span/a/span"
   ]
  },
  {
   "cell_type": "code",
   "execution_count": 100,
   "id": "7ed35191",
   "metadata": {},
   "outputs": [
    {
     "name": "stdout",
     "output_type": "stream",
     "text": [
      "TWO WHEELER (Invalid Carriage)\n",
      "TWO WHEELER(NT)\n",
      "TWO WHEELER(T)\n",
      "THREE WHEELER(NT)\n"
     ]
    }
   ],
   "source": [
    "#click on the first option 'Two wheeler invalid carriage'\n",
    "driver.find_element(\"xpath\",'/html/body/form/div[2]/div/div/div[3]/div/div[1]/div[2]/div/div/div[1]/div/div/div/table/tbody/tr[1]/td/label').click()\n",
    "element = driver.find_element(\"xpath\",'/html/body/form/div[2]/div/div/div[3]/div/div[1]/div[2]/div/div/div[1]/div/div/div/table/tbody/tr[1]/td/label').text\n",
    "print(element)\n",
    "time.sleep(3)\n",
    "\n",
    "#click sidebar refresh button\n",
    "driver.find_element(\"xpath\",'/html/body/form/div[2]/div/div/div[3]/div/div[1]/div[1]/span/button/span[2]').click()\n",
    "time.sleep(3)\n",
    "#mine the data - inser soup block\n",
    "\n",
    "#re-click the first option to deselect the checkbox\n",
    "driver.find_element(\"xpath\",'/html/body/form/div[2]/div/div/div[3]/div/div[1]/div[2]/div/div/div[1]/div/div/div/table/tbody/tr[1]/td/label').click()\n",
    "time.sleep(3)\n",
    "\n",
    "#click the next vehicle category 'Two Wheeler(NT)'\n",
    "driver.find_element(\"xpath\",'/html/body/form/div[2]/div/div/div[3]/div/div[1]/div[2]/div/div/div[1]/div/div/div/table/tbody/tr[2]/td/label').click()\n",
    "element = driver.find_element(\"xpath\",'/html/body/form/div[2]/div/div/div[3]/div/div[1]/div[2]/div/div/div[1]/div/div/div/table/tbody/tr[2]/td/label').text\n",
    "print(element)\n",
    "time.sleep(3)\n",
    "\n",
    "#click sidebar refresh button\n",
    "driver.find_element(\"xpath\",'/html/body/form/div[2]/div/div/div[3]/div/div[1]/div[1]/span/button/span[2]').click()\n",
    "\n",
    "#re-click the next vehicle category 'Two Wheeler(NT)' to deselect the checkbox\n",
    "driver.find_element(\"xpath\",'/html/body/form/div[2]/div/div/div[3]/div/div[1]/div[2]/div/div/div[1]/div/div/div/table/tbody/tr[2]/td/label').click()\n",
    "time.sleep(3)\n",
    "\n",
    "#click the next vehicle category 'Two Wheeler(T)'\n",
    "driver.find_element(\"xpath\",'/html/body/form/div[2]/div/div/div[3]/div/div[1]/div[2]/div/div/div[1]/div/div/div/table/tbody/tr[3]/td/label').click()\n",
    "element = driver.find_element(\"xpath\",'/html/body/form/div[2]/div/div/div[3]/div/div[1]/div[2]/div/div/div[1]/div/div/div/table/tbody/tr[3]/td/label').text\n",
    "print(element)\n",
    "time.sleep(3)\n",
    "\n",
    "#click sidebar refresh button\n",
    "driver.find_element(\"xpath\",'/html/body/form/div[2]/div/div/div[3]/div/div[1]/div[1]/span/button/span[2]').click()\n",
    "\n",
    "#re-click the next vehicle category 'Two Wheeler(T)' to deselect the checkbox\n",
    "driver.find_element(\"xpath\",'/html/body/form/div[2]/div/div/div[3]/div/div[1]/div[2]/div/div/div[1]/div/div/div/table/tbody/tr[3]/td/label').click()\n",
    "time.sleep(3)\n",
    "\n",
    "#click the next vehicle category 'Three Wheeler(NT)'\n",
    "driver.find_element(\"xpath\",'/html/body/form/div[2]/div/div/div[3]/div/div[1]/div[2]/div/div/div[1]/div/div/div/table/tbody/tr[4]/td/label').click()\n",
    "element = driver.find_element(\"xpath\",'/html/body/form/div[2]/div/div/div[3]/div/div[1]/div[2]/div/div/div[1]/div/div/div/table/tbody/tr[4]/td/label').text\n",
    "print(element)\n",
    "time.sleep(3)\n",
    "\n",
    "#click sidebar refresh button\n",
    "driver.find_element(\"xpath\",'/html/body/form/div[2]/div/div/div[3]/div/div[1]/div[1]/span/button/span[2]').click()\n",
    "\n",
    "#re-click the next vehicle category 'Three Wheeler(NT)' to deselect the checkbox\n",
    "driver.find_element(\"xpath\",'/html/body/form/div[2]/div/div/div[3]/div/div[1]/div[2]/div/div/div[1]/div/div/div/table/tbody/tr[4]/td/label').click()\n",
    "\n",
    "#/html/body/form/div[2]/div/div/div[3]/div/div[1]/div[2]/div/div/div[1]/div/div/div/table/tbody/tr[16]/td/label"
   ]
  },
  {
   "cell_type": "code",
   "execution_count": 102,
   "id": "4700bc53",
   "metadata": {
    "scrolled": true
   },
   "outputs": [
    {
     "name": "stdout",
     "output_type": "stream",
     "text": [
      "TWO WHEELER (Invalid Carriage)\n",
      "TWO WHEELER(NT)\n",
      "TWO WHEELER(T)\n",
      "THREE WHEELER(NT)\n",
      "THREE WHEELER(T)\n",
      "FOUR WHEELER (Invalid Carriage)\n",
      "HEAVY GOODS VEHICLE\n",
      "HEAVY MOTOR VEHICLE\n",
      "HEAVY PASSENGER VEHICLE\n",
      "LIGHT GOODS VEHICLE\n",
      "LIGHT MOTOR VEHICLE\n",
      "LIGHT PASSENGER VEHICLE\n",
      "MEDIUM GOODS VEHICLE\n",
      "MEDIUM MOTOR VEHICLE\n",
      "MEDIUM PASSENGER VEHICLE\n",
      "OTHER THAN MENTIONED ABOVE\n"
     ]
    }
   ],
   "source": [
    "\n",
    "vehicle_category_click_rang = [int(a) for a in range(1,17)]\n",
    "\n",
    "# iterate through vehicle category element\n",
    "for each_vehicle_category in vehicle_category_click_range:\n",
    "    #click on the vehicle category element\n",
    "    driver.find_element(\"xpath\",'/html/body/form/div[2]/div/div/div[3]/div/div[1]/div[2]/div/div/div[1]/div/div/div/table/tbody/tr['+str(each_vehicle_category)+']/td/label').click()\n",
    "    element = driver.find_element(\"xpath\",'/html/body/form/div[2]/div/div/div[3]/div/div[1]/div[2]/div/div/div[1]/div/div/div/table/tbody/tr['+str(each_vehicle_category)+']/td/label').text\n",
    "    print(element)\n",
    "    #click sidebar refresh button\n",
    "    driver.find_element(\"xpath\",'/html/body/form/div[2]/div/div/div[3]/div/div[1]/div[1]/span/button/span[2]').click()\n",
    "    time.sleep(2)\n",
    "    \n",
    "    #soup block\n",
    "    \n",
    "    \n",
    "    #re-click to deselect the element\n",
    "    driver.find_element(\"xpath\",'/html/body/form/div[2]/div/div/div[3]/div/div[1]/div[2]/div/div/div[1]/div/div/div/table/tbody/tr['+str(each_vehicle_category)+']/td/label').click()\n",
    "    "
   ]
  },
  {
   "cell_type": "code",
   "execution_count": 105,
   "id": "60dd75f8",
   "metadata": {},
   "outputs": [
    {
     "name": "stdout",
     "output_type": "stream",
     "text": [
      "I am in Y-axis dropdown,clicked maker\n",
      "Y-axis element  selected.\n",
      "I am in X-axis dropdown\n",
      "x-axis element  selected.\n",
      "Delhi(23)\n",
      "BURARI AUTO UNIT - DL53( 08-APR-2016 )\n",
      "2022\n",
      "TWO WHEELER (Invalid Carriage)\n",
      "TWO WHEELER(NT)\n",
      "TWO WHEELER(T)\n",
      "THREE WHEELER(NT)\n",
      "THREE WHEELER(T)\n"
     ]
    },
    {
     "name": "stderr",
     "output_type": "stream",
     "text": [
      "<ipython-input-105-dcf300657bca>:101: FutureWarning: The frame.append method is deprecated and will be removed from pandas in a future version. Use pandas.concat instead.\n",
      "  Maker = Maker.append(dfs[5])\n"
     ]
    },
    {
     "name": "stdout",
     "output_type": "stream",
     "text": [
      "FOUR WHEELER (Invalid Carriage)\n",
      "HEAVY GOODS VEHICLE\n",
      "HEAVY MOTOR VEHICLE\n",
      "HEAVY PASSENGER VEHICLE\n",
      "LIGHT GOODS VEHICLE\n",
      "LIGHT MOTOR VEHICLE\n",
      "LIGHT PASSENGER VEHICLE\n"
     ]
    },
    {
     "name": "stderr",
     "output_type": "stream",
     "text": [
      "<ipython-input-105-dcf300657bca>:101: FutureWarning: The frame.append method is deprecated and will be removed from pandas in a future version. Use pandas.concat instead.\n",
      "  Maker = Maker.append(dfs[5])\n"
     ]
    },
    {
     "name": "stdout",
     "output_type": "stream",
     "text": [
      "MEDIUM GOODS VEHICLE\n",
      "MEDIUM MOTOR VEHICLE\n",
      "MEDIUM PASSENGER VEHICLE\n",
      "OTHER THAN MENTIONED ABOVE\n",
      "/////////////\n",
      "2022 done in time 62.0\n",
      "/////////////\n",
      "2021\n",
      "TWO WHEELER (Invalid Carriage)\n",
      "TWO WHEELER(NT)\n",
      "TWO WHEELER(T)\n",
      "THREE WHEELER(NT)\n",
      "THREE WHEELER(T)\n"
     ]
    },
    {
     "name": "stderr",
     "output_type": "stream",
     "text": [
      "<ipython-input-105-dcf300657bca>:101: FutureWarning: The frame.append method is deprecated and will be removed from pandas in a future version. Use pandas.concat instead.\n",
      "  Maker = Maker.append(dfs[5])\n"
     ]
    },
    {
     "name": "stdout",
     "output_type": "stream",
     "text": [
      "FOUR WHEELER (Invalid Carriage)\n",
      "HEAVY GOODS VEHICLE\n",
      "HEAVY MOTOR VEHICLE\n",
      "HEAVY PASSENGER VEHICLE\n",
      "LIGHT GOODS VEHICLE\n",
      "LIGHT MOTOR VEHICLE\n",
      "LIGHT PASSENGER VEHICLE\n",
      "MEDIUM GOODS VEHICLE\n",
      "MEDIUM MOTOR VEHICLE\n",
      "MEDIUM PASSENGER VEHICLE\n",
      "OTHER THAN MENTIONED ABOVE\n",
      "/////////////\n",
      "2021 done in time 62.0\n",
      "/////////////\n",
      "2020\n",
      "TWO WHEELER (Invalid Carriage)\n",
      "TWO WHEELER(NT)\n",
      "TWO WHEELER(T)\n",
      "THREE WHEELER(NT)\n",
      "THREE WHEELER(T)\n"
     ]
    },
    {
     "name": "stderr",
     "output_type": "stream",
     "text": [
      "<ipython-input-105-dcf300657bca>:101: FutureWarning: The frame.append method is deprecated and will be removed from pandas in a future version. Use pandas.concat instead.\n",
      "  Maker = Maker.append(dfs[5])\n"
     ]
    },
    {
     "name": "stdout",
     "output_type": "stream",
     "text": [
      "FOUR WHEELER (Invalid Carriage)\n",
      "HEAVY GOODS VEHICLE\n",
      "HEAVY MOTOR VEHICLE\n",
      "HEAVY PASSENGER VEHICLE\n",
      "LIGHT GOODS VEHICLE\n",
      "LIGHT MOTOR VEHICLE\n",
      "LIGHT PASSENGER VEHICLE\n"
     ]
    },
    {
     "name": "stderr",
     "output_type": "stream",
     "text": [
      "<ipython-input-105-dcf300657bca>:101: FutureWarning: The frame.append method is deprecated and will be removed from pandas in a future version. Use pandas.concat instead.\n",
      "  Maker = Maker.append(dfs[5])\n"
     ]
    },
    {
     "name": "stdout",
     "output_type": "stream",
     "text": [
      "MEDIUM GOODS VEHICLE\n",
      "MEDIUM MOTOR VEHICLE\n",
      "MEDIUM PASSENGER VEHICLE\n",
      "OTHER THAN MENTIONED ABOVE\n",
      "/////////////\n",
      "2020 done in time 63.0\n",
      "/////////////\n",
      "2019\n",
      "TWO WHEELER (Invalid Carriage)\n",
      "TWO WHEELER(NT)\n",
      "TWO WHEELER(T)\n",
      "THREE WHEELER(NT)\n",
      "THREE WHEELER(T)\n"
     ]
    },
    {
     "name": "stderr",
     "output_type": "stream",
     "text": [
      "<ipython-input-105-dcf300657bca>:101: FutureWarning: The frame.append method is deprecated and will be removed from pandas in a future version. Use pandas.concat instead.\n",
      "  Maker = Maker.append(dfs[5])\n"
     ]
    },
    {
     "name": "stdout",
     "output_type": "stream",
     "text": [
      "FOUR WHEELER (Invalid Carriage)\n",
      "HEAVY GOODS VEHICLE\n",
      "HEAVY MOTOR VEHICLE\n",
      "HEAVY PASSENGER VEHICLE\n",
      "LIGHT GOODS VEHICLE\n",
      "LIGHT MOTOR VEHICLE\n",
      "LIGHT PASSENGER VEHICLE\n"
     ]
    },
    {
     "name": "stderr",
     "output_type": "stream",
     "text": [
      "<ipython-input-105-dcf300657bca>:101: FutureWarning: The frame.append method is deprecated and will be removed from pandas in a future version. Use pandas.concat instead.\n",
      "  Maker = Maker.append(dfs[5])\n"
     ]
    },
    {
     "name": "stdout",
     "output_type": "stream",
     "text": [
      "MEDIUM GOODS VEHICLE\n",
      "MEDIUM MOTOR VEHICLE\n",
      "MEDIUM PASSENGER VEHICLE\n",
      "OTHER THAN MENTIONED ABOVE\n",
      "/////////////\n",
      "2019 done in time 63.0\n",
      "/////////////\n",
      "2018\n",
      "TWO WHEELER (Invalid Carriage)\n",
      "TWO WHEELER(NT)\n",
      "TWO WHEELER(T)\n",
      "THREE WHEELER(NT)\n",
      "THREE WHEELER(T)\n"
     ]
    },
    {
     "name": "stderr",
     "output_type": "stream",
     "text": [
      "<ipython-input-105-dcf300657bca>:101: FutureWarning: The frame.append method is deprecated and will be removed from pandas in a future version. Use pandas.concat instead.\n",
      "  Maker = Maker.append(dfs[5])\n"
     ]
    },
    {
     "name": "stdout",
     "output_type": "stream",
     "text": [
      "FOUR WHEELER (Invalid Carriage)\n",
      "HEAVY GOODS VEHICLE\n",
      "HEAVY MOTOR VEHICLE\n",
      "HEAVY PASSENGER VEHICLE\n",
      "LIGHT GOODS VEHICLE\n",
      "LIGHT MOTOR VEHICLE\n",
      "LIGHT PASSENGER VEHICLE\n"
     ]
    },
    {
     "name": "stderr",
     "output_type": "stream",
     "text": [
      "<ipython-input-105-dcf300657bca>:101: FutureWarning: The frame.append method is deprecated and will be removed from pandas in a future version. Use pandas.concat instead.\n",
      "  Maker = Maker.append(dfs[5])\n"
     ]
    },
    {
     "name": "stdout",
     "output_type": "stream",
     "text": [
      "MEDIUM GOODS VEHICLE\n",
      "MEDIUM MOTOR VEHICLE\n",
      "MEDIUM PASSENGER VEHICLE\n",
      "OTHER THAN MENTIONED ABOVE\n",
      "/////////////\n",
      "2018 done in time 62.0\n",
      "/////////////\n",
      "2017\n",
      "TWO WHEELER (Invalid Carriage)\n",
      "TWO WHEELER(NT)\n",
      "TWO WHEELER(T)\n",
      "THREE WHEELER(NT)\n",
      "THREE WHEELER(T)\n"
     ]
    },
    {
     "name": "stderr",
     "output_type": "stream",
     "text": [
      "<ipython-input-105-dcf300657bca>:101: FutureWarning: The frame.append method is deprecated and will be removed from pandas in a future version. Use pandas.concat instead.\n",
      "  Maker = Maker.append(dfs[5])\n"
     ]
    },
    {
     "name": "stdout",
     "output_type": "stream",
     "text": [
      "FOUR WHEELER (Invalid Carriage)\n",
      "HEAVY GOODS VEHICLE\n",
      "HEAVY MOTOR VEHICLE\n",
      "HEAVY PASSENGER VEHICLE\n",
      "LIGHT GOODS VEHICLE\n",
      "LIGHT MOTOR VEHICLE\n",
      "LIGHT PASSENGER VEHICLE\n"
     ]
    },
    {
     "name": "stderr",
     "output_type": "stream",
     "text": [
      "<ipython-input-105-dcf300657bca>:101: FutureWarning: The frame.append method is deprecated and will be removed from pandas in a future version. Use pandas.concat instead.\n",
      "  Maker = Maker.append(dfs[5])\n"
     ]
    },
    {
     "name": "stdout",
     "output_type": "stream",
     "text": [
      "MEDIUM GOODS VEHICLE\n",
      "MEDIUM MOTOR VEHICLE\n",
      "MEDIUM PASSENGER VEHICLE\n",
      "OTHER THAN MENTIONED ABOVE\n",
      "/////////////\n",
      "2017 done in time 63.0\n",
      "/////////////\n",
      "2016\n",
      "TWO WHEELER (Invalid Carriage)\n",
      "TWO WHEELER(NT)\n",
      "TWO WHEELER(T)\n",
      "THREE WHEELER(NT)\n"
     ]
    },
    {
     "name": "stderr",
     "output_type": "stream",
     "text": [
      "<ipython-input-105-dcf300657bca>:101: FutureWarning: The frame.append method is deprecated and will be removed from pandas in a future version. Use pandas.concat instead.\n",
      "  Maker = Maker.append(dfs[5])\n"
     ]
    },
    {
     "name": "stdout",
     "output_type": "stream",
     "text": [
      "THREE WHEELER(T)\n"
     ]
    },
    {
     "name": "stderr",
     "output_type": "stream",
     "text": [
      "<ipython-input-105-dcf300657bca>:101: FutureWarning: The frame.append method is deprecated and will be removed from pandas in a future version. Use pandas.concat instead.\n",
      "  Maker = Maker.append(dfs[5])\n"
     ]
    },
    {
     "name": "stdout",
     "output_type": "stream",
     "text": [
      "FOUR WHEELER (Invalid Carriage)\n",
      "HEAVY GOODS VEHICLE\n",
      "HEAVY MOTOR VEHICLE\n",
      "HEAVY PASSENGER VEHICLE\n",
      "LIGHT GOODS VEHICLE\n",
      "LIGHT MOTOR VEHICLE\n",
      "LIGHT PASSENGER VEHICLE\n",
      "MEDIUM GOODS VEHICLE\n",
      "MEDIUM MOTOR VEHICLE\n",
      "MEDIUM PASSENGER VEHICLE\n",
      "OTHER THAN MENTIONED ABOVE\n",
      "/////////////\n",
      "2016 done in time 62.0\n",
      "/////////////\n",
      "2015\n",
      "TWO WHEELER (Invalid Carriage)\n",
      "TWO WHEELER(NT)\n",
      "TWO WHEELER(T)\n",
      "THREE WHEELER(NT)\n"
     ]
    },
    {
     "name": "stderr",
     "output_type": "stream",
     "text": [
      "<ipython-input-105-dcf300657bca>:101: FutureWarning: The frame.append method is deprecated and will be removed from pandas in a future version. Use pandas.concat instead.\n",
      "  Maker = Maker.append(dfs[5])\n"
     ]
    },
    {
     "name": "stdout",
     "output_type": "stream",
     "text": [
      "THREE WHEELER(T)\n"
     ]
    },
    {
     "name": "stderr",
     "output_type": "stream",
     "text": [
      "<ipython-input-105-dcf300657bca>:101: FutureWarning: The frame.append method is deprecated and will be removed from pandas in a future version. Use pandas.concat instead.\n",
      "  Maker = Maker.append(dfs[5])\n"
     ]
    },
    {
     "name": "stdout",
     "output_type": "stream",
     "text": [
      "FOUR WHEELER (Invalid Carriage)\n",
      "HEAVY GOODS VEHICLE\n",
      "HEAVY MOTOR VEHICLE\n",
      "HEAVY PASSENGER VEHICLE\n",
      "LIGHT GOODS VEHICLE\n",
      "LIGHT MOTOR VEHICLE\n",
      "LIGHT PASSENGER VEHICLE\n",
      "MEDIUM GOODS VEHICLE\n",
      "MEDIUM MOTOR VEHICLE\n",
      "MEDIUM PASSENGER VEHICLE\n",
      "OTHER THAN MENTIONED ABOVE\n",
      "/////////////\n",
      "2015 done in time 62.0\n",
      "/////////////\n",
      "2014\n",
      "TWO WHEELER (Invalid Carriage)\n",
      "TWO WHEELER(NT)\n",
      "TWO WHEELER(T)\n",
      "THREE WHEELER(NT)\n",
      "THREE WHEELER(T)\n"
     ]
    },
    {
     "name": "stderr",
     "output_type": "stream",
     "text": [
      "<ipython-input-105-dcf300657bca>:101: FutureWarning: The frame.append method is deprecated and will be removed from pandas in a future version. Use pandas.concat instead.\n",
      "  Maker = Maker.append(dfs[5])\n"
     ]
    },
    {
     "name": "stdout",
     "output_type": "stream",
     "text": [
      "FOUR WHEELER (Invalid Carriage)\n",
      "HEAVY GOODS VEHICLE\n",
      "HEAVY MOTOR VEHICLE\n",
      "HEAVY PASSENGER VEHICLE\n",
      "LIGHT GOODS VEHICLE\n",
      "LIGHT MOTOR VEHICLE\n",
      "LIGHT PASSENGER VEHICLE\n",
      "MEDIUM GOODS VEHICLE\n",
      "MEDIUM MOTOR VEHICLE\n",
      "MEDIUM PASSENGER VEHICLE\n",
      "OTHER THAN MENTIONED ABOVE\n",
      "/////////////\n",
      "2014 done in time 61.0\n",
      "/////////////\n",
      "2013\n",
      "TWO WHEELER (Invalid Carriage)\n",
      "TWO WHEELER(NT)\n",
      "TWO WHEELER(T)\n",
      "THREE WHEELER(NT)\n",
      "THREE WHEELER(T)\n"
     ]
    },
    {
     "name": "stderr",
     "output_type": "stream",
     "text": [
      "<ipython-input-105-dcf300657bca>:101: FutureWarning: The frame.append method is deprecated and will be removed from pandas in a future version. Use pandas.concat instead.\n",
      "  Maker = Maker.append(dfs[5])\n"
     ]
    },
    {
     "name": "stdout",
     "output_type": "stream",
     "text": [
      "FOUR WHEELER (Invalid Carriage)\n",
      "HEAVY GOODS VEHICLE\n",
      "HEAVY MOTOR VEHICLE\n",
      "HEAVY PASSENGER VEHICLE\n",
      "LIGHT GOODS VEHICLE\n",
      "LIGHT MOTOR VEHICLE\n",
      "LIGHT PASSENGER VEHICLE\n",
      "MEDIUM GOODS VEHICLE\n",
      "MEDIUM MOTOR VEHICLE\n",
      "MEDIUM PASSENGER VEHICLE\n",
      "OTHER THAN MENTIONED ABOVE\n",
      "/////////////\n",
      "2013 done in time 61.0\n",
      "/////////////\n",
      "-----------------\n",
      "BURARI AUTO UNIT - DL53( 08-APR-2016 ) done in time 623.0\n",
      "-----------------\n",
      "BURARI TAXI UNIT - DL52( 08-APR-2016 )\n",
      "2022\n",
      "TWO WHEELER (Invalid Carriage)\n",
      "TWO WHEELER(NT)\n",
      "TWO WHEELER(T)\n",
      "THREE WHEELER(NT)\n",
      "THREE WHEELER(T)\n",
      "FOUR WHEELER (Invalid Carriage)\n",
      "HEAVY GOODS VEHICLE\n",
      "HEAVY MOTOR VEHICLE\n",
      "HEAVY PASSENGER VEHICLE\n",
      "LIGHT GOODS VEHICLE\n",
      "LIGHT MOTOR VEHICLE\n",
      "LIGHT PASSENGER VEHICLE\n"
     ]
    },
    {
     "name": "stderr",
     "output_type": "stream",
     "text": [
      "<ipython-input-105-dcf300657bca>:101: FutureWarning: The frame.append method is deprecated and will be removed from pandas in a future version. Use pandas.concat instead.\n",
      "  Maker = Maker.append(dfs[5])\n"
     ]
    },
    {
     "name": "stdout",
     "output_type": "stream",
     "text": [
      "MEDIUM GOODS VEHICLE\n",
      "MEDIUM MOTOR VEHICLE\n",
      "MEDIUM PASSENGER VEHICLE\n",
      "OTHER THAN MENTIONED ABOVE\n",
      "/////////////\n",
      "2022 done in time 61.0\n",
      "/////////////\n",
      "2021\n",
      "TWO WHEELER (Invalid Carriage)\n",
      "TWO WHEELER(NT)\n",
      "TWO WHEELER(T)\n",
      "THREE WHEELER(NT)\n",
      "THREE WHEELER(T)\n",
      "FOUR WHEELER (Invalid Carriage)\n",
      "HEAVY GOODS VEHICLE\n",
      "HEAVY MOTOR VEHICLE\n",
      "HEAVY PASSENGER VEHICLE\n",
      "LIGHT GOODS VEHICLE\n",
      "LIGHT MOTOR VEHICLE\n",
      "LIGHT PASSENGER VEHICLE\n"
     ]
    },
    {
     "name": "stderr",
     "output_type": "stream",
     "text": [
      "<ipython-input-105-dcf300657bca>:101: FutureWarning: The frame.append method is deprecated and will be removed from pandas in a future version. Use pandas.concat instead.\n",
      "  Maker = Maker.append(dfs[5])\n"
     ]
    },
    {
     "name": "stdout",
     "output_type": "stream",
     "text": [
      "MEDIUM GOODS VEHICLE\n",
      "MEDIUM MOTOR VEHICLE\n",
      "MEDIUM PASSENGER VEHICLE\n",
      "OTHER THAN MENTIONED ABOVE\n",
      "/////////////\n",
      "2021 done in time 61.0\n",
      "/////////////\n",
      "2020\n",
      "TWO WHEELER (Invalid Carriage)\n",
      "TWO WHEELER(NT)\n",
      "TWO WHEELER(T)\n",
      "THREE WHEELER(NT)\n",
      "THREE WHEELER(T)\n",
      "FOUR WHEELER (Invalid Carriage)\n",
      "HEAVY GOODS VEHICLE\n",
      "HEAVY MOTOR VEHICLE\n",
      "HEAVY PASSENGER VEHICLE\n",
      "LIGHT GOODS VEHICLE\n",
      "LIGHT MOTOR VEHICLE\n",
      "LIGHT PASSENGER VEHICLE\n"
     ]
    },
    {
     "name": "stderr",
     "output_type": "stream",
     "text": [
      "<ipython-input-105-dcf300657bca>:101: FutureWarning: The frame.append method is deprecated and will be removed from pandas in a future version. Use pandas.concat instead.\n",
      "  Maker = Maker.append(dfs[5])\n"
     ]
    },
    {
     "name": "stdout",
     "output_type": "stream",
     "text": [
      "MEDIUM GOODS VEHICLE\n",
      "MEDIUM MOTOR VEHICLE\n",
      "MEDIUM PASSENGER VEHICLE\n",
      "OTHER THAN MENTIONED ABOVE\n",
      "/////////////\n",
      "2020 done in time 61.0\n",
      "/////////////\n",
      "2019\n",
      "TWO WHEELER (Invalid Carriage)\n",
      "TWO WHEELER(NT)\n",
      "TWO WHEELER(T)\n",
      "THREE WHEELER(NT)\n",
      "THREE WHEELER(T)\n",
      "FOUR WHEELER (Invalid Carriage)\n",
      "HEAVY GOODS VEHICLE\n",
      "HEAVY MOTOR VEHICLE\n",
      "HEAVY PASSENGER VEHICLE\n",
      "LIGHT GOODS VEHICLE\n",
      "LIGHT MOTOR VEHICLE\n",
      "LIGHT PASSENGER VEHICLE\n"
     ]
    },
    {
     "name": "stderr",
     "output_type": "stream",
     "text": [
      "<ipython-input-105-dcf300657bca>:101: FutureWarning: The frame.append method is deprecated and will be removed from pandas in a future version. Use pandas.concat instead.\n",
      "  Maker = Maker.append(dfs[5])\n"
     ]
    },
    {
     "name": "stdout",
     "output_type": "stream",
     "text": [
      "MEDIUM GOODS VEHICLE\n",
      "MEDIUM MOTOR VEHICLE\n",
      "MEDIUM PASSENGER VEHICLE\n",
      "OTHER THAN MENTIONED ABOVE\n",
      "/////////////\n",
      "2019 done in time 62.0\n",
      "/////////////\n",
      "2018\n",
      "TWO WHEELER (Invalid Carriage)\n",
      "TWO WHEELER(NT)\n",
      "/////////////\n",
      "2018 done in time 11.0\n",
      "/////////////\n",
      "2018\n",
      "/////////////\n",
      "2018 done in time 3.0\n",
      "/////////////\n",
      "2017\n",
      "/////////////\n",
      "2017 done in time 3.0\n",
      "/////////////\n",
      "2016\n",
      "/////////////\n",
      "2016 done in time 3.0\n",
      "/////////////\n",
      "2015\n",
      "/////////////\n",
      "2015 done in time 2.0\n",
      "/////////////\n",
      "2014\n"
     ]
    },
    {
     "ename": "KeyboardInterrupt",
     "evalue": "",
     "output_type": "error",
     "traceback": [
      "\u001b[1;31m---------------------------------------------------------------------------\u001b[0m",
      "\u001b[1;31mKeyboardInterrupt\u001b[0m                         Traceback (most recent call last)",
      "\u001b[1;32m<ipython-input-105-dcf300657bca>\u001b[0m in \u001b[0;36m<module>\u001b[1;34m\u001b[0m\n\u001b[0;32m     69\u001b[0m                 \u001b[1;31m#Click Refresh\u001b[0m\u001b[1;33m\u001b[0m\u001b[1;33m\u001b[0m\u001b[1;33m\u001b[0m\u001b[0m\n\u001b[0;32m     70\u001b[0m                 \u001b[0mdriver\u001b[0m\u001b[1;33m.\u001b[0m\u001b[0mfind_element\u001b[0m\u001b[1;33m(\u001b[0m\u001b[1;34m\"xpath\"\u001b[0m\u001b[1;33m,\u001b[0m\u001b[1;34m'/html/body/form/div[2]/div/div/div[1]/div[3]/div[3]/div/button'\u001b[0m\u001b[1;33m)\u001b[0m\u001b[1;33m.\u001b[0m\u001b[0mclick\u001b[0m\u001b[1;33m(\u001b[0m\u001b[1;33m)\u001b[0m\u001b[1;33m\u001b[0m\u001b[1;33m\u001b[0m\u001b[0m\n\u001b[1;32m---> 71\u001b[1;33m                 \u001b[0mtime\u001b[0m\u001b[1;33m.\u001b[0m\u001b[0msleep\u001b[0m\u001b[1;33m(\u001b[0m\u001b[1;36m2\u001b[0m\u001b[1;33m)\u001b[0m\u001b[1;33m\u001b[0m\u001b[1;33m\u001b[0m\u001b[0m\n\u001b[0m\u001b[0;32m     72\u001b[0m \u001b[1;33m\u001b[0m\u001b[0m\n\u001b[0;32m     73\u001b[0m                 \u001b[1;31m# iterate through vehicle category element\u001b[0m\u001b[1;33m\u001b[0m\u001b[1;33m\u001b[0m\u001b[1;33m\u001b[0m\u001b[0m\n",
      "\u001b[1;31mKeyboardInterrupt\u001b[0m: "
     ]
    }
   ],
   "source": [
    "#Block 1\n",
    "#this script mines State wise RTO wise Make wise Month wise Year wise Vehicle category wise New vehicle registration data\n",
    "\n",
    "#Select Y-axis\n",
    "Y_axis_dropdown=driver.find_element('xpath','/html/body/form/div[2]/div/div/div[1]/div[3]/div[2]/div[1]/div[1]/div/div[3]/span')\n",
    "driver.execute_script(\"arguments[0].click();\", Y_axis_dropdown)\n",
    "print(\"I am in Y-axis dropdown,clicked maker\")\n",
    "time.sleep(2)\n",
    "driver.find_element(\"id\",\"yaxisVar_4\").click() #click on the 'Maker'\n",
    "Y_axis_element = driver.find_element(\"id\",\"yaxisVar_4\").text\n",
    "print(\"Y-axis element \"+str(Y_axis_element)+\" selected.\")\n",
    "time.sleep(2)\n",
    "\n",
    "#Select x-axis\n",
    "X_axis_dropdown=driver.find_element(\"xpath\",'/html/body/form/div[2]/div/div/div[1]/div[3]/div[2]/div[1]/div[2]/div/div[3]')\n",
    "driver.execute_script(\"arguments[0].click();\", X_axis_dropdown)\n",
    "print(\"I am in X-axis dropdown\")\n",
    "time.sleep(2)\n",
    "driver.find_element(\"id\",'xaxisVar_6').click() #click 'Vehicle category'\n",
    "X_axis_element = driver.find_element(\"id\",'xaxisVar_6').text\n",
    "print(\"x-axis element \"+str(X_axis_element)+\" selected.\")\n",
    "time.sleep(2)\n",
    "\n",
    "#click on the content closed button\n",
    "driver.find_element(\"xpath\",'/html/body/form/div[2]/div/div/div[3]/div/div[3]/div/span/a/span').click()\n",
    "\n",
    "State_click_range = [int(i) for i in range(10,11)] #dropdown click start from '2'\n",
    "\n",
    "for each_state in State_click_range:\n",
    "    try:\n",
    "        State_dropdown = driver.find_element(\"xpath\",\"/html/body/form/div[2]/div/div/div[1]/div[2]/div[3]/div/div[3]\")\n",
    "        driver.execute_script(\"arguments[0].click();\",State_dropdown)\n",
    "        State=driver.find_element(\"id\",\"j_idt51_\"+str(each_state-1)).text\n",
    "        print(State)\n",
    "        dropdown_option = WebDriverWait(driver,15).until(EC.presence_of_element_located((By.XPATH, \"//html/body/div[3]/div/ul/li[\"+str(each_state)+\"]\")))\n",
    "        dropdown_option.click()\n",
    "        time.sleep(2)\n",
    "\n",
    "    except Exception as e:\n",
    "        print(e)\n",
    "        continue\n",
    "    \n",
    "    options = []\n",
    "    State_RTO_List = driver.find_element(\"id\",'selectedRto_input')\n",
    "    for option in State_RTO_List.find_elements(\"tag name\",'option'):\n",
    "        options.append(option.get_attribute(\"value\"))\n",
    "        \n",
    "\n",
    "    for each_RTO in  range(1,len(options)):\n",
    "        RTO_start_time = time.time()\n",
    "        try:\n",
    "            dropdown_trigger_rto = driver.find_element(\"xpath\",'/html/body/form/div[2]/div/div/div[1]/div[2]/div[4]/div/div[3]').click()\n",
    "            RTO=driver.find_element(\"id\",\"selectedRto_\"+ str(each_RTO)).text\n",
    "            driver.find_element(\"id\",\"selectedRto_\"+ str(each_RTO)).click()\n",
    "            print(RTO)\n",
    "            time.sleep(1)\n",
    "        except Exception:\n",
    "            continue\n",
    "        \n",
    "        year_range = [int(y) for y in range(1,11)] #1=2022 to 10=2013\n",
    "        for each_year in year_range:\n",
    "            year_start_time = time.time()\n",
    "            try:\n",
    "                Year_dropdown=driver.find_element(\"xpath\",'/html/body/form/div[2]/div/div/div[1]/div[3]/div[2]/div[2]/div[2]/div/div[3]')\n",
    "                driver.execute_script(\"arguments[0].click();\", Year_dropdown)\n",
    "                Year=driver.find_element(\"id\",\"selectedYear_\"+str(each_year)).text\n",
    "                driver.find_element(\"id\",\"selectedYear_\"+str(each_year)).click()\n",
    "                print(Year)\n",
    "                \n",
    "                #Click Refresh\n",
    "                driver.find_element(\"xpath\",'/html/body/form/div[2]/div/div/div[1]/div[3]/div[3]/div/button').click() \n",
    "                time.sleep(2)\n",
    "                \n",
    "                # iterate through vehicle category element\n",
    "                vehicle_category_click_rang = [int(a) for a in range(1,17)]\n",
    "                for each_vehicle_category in vehicle_category_click_rang:\n",
    "                    try:\n",
    "                        \n",
    "                        #click on the vehicle category element\n",
    "                        driver.find_element(\"xpath\",'/html/body/form/div[2]/div/div/div[3]/div/div[1]/div[2]/div/div/div[1]/div/div/div/table/tbody/tr['+str(each_vehicle_category)+']/td/label').click()\n",
    "                        vehicle_category = driver.find_element(\"xpath\",'/html/body/form/div[2]/div/div/div[3]/div/div[1]/div[2]/div/div/div[1]/div/div/div/table/tbody/tr['+str(each_vehicle_category)+']/td/label').text\n",
    "                        print(vehicle_category)\n",
    "\n",
    "                        #click sidebar refresh button\n",
    "                        driver.find_element(\"xpath\",'/html/body/form/div[2]/div/div/div[3]/div/div[1]/div[1]/span/button/span[2]').click()\n",
    "                        time.sleep(2)\n",
    "\n",
    "                        #soup block\n",
    "                        #Creating the Soup using BS4 and getting all the tables from the html\n",
    "                        soup = BeautifulSoup(driver.page_source, 'lxml')\n",
    "                        tables = soup.find_all('table')\n",
    "                        dfs = pd.read_html(str(tables))\n",
    "                        Maker = pd.DataFrame(columns = dfs[5].columns)\n",
    "                        pages = len(soup.find('span',class_=\"ui-paginator-pages\").text)\n",
    "\n",
    "                        for each_page in range(0,pages):\n",
    "\n",
    "                            try:\n",
    "                                soup = BeautifulSoup(driver.page_source, 'lxml')\n",
    "                                tables = soup.find_all('table')\n",
    "                                dfs = pd.read_html(str(tables))\n",
    "                                Maker = Maker.append(dfs[5])\n",
    "                                pagination = driver.find_element(\"xpath\",\"/html/body/form/div[2]/div/div/div[3]/div/div[2]/div/div/div[1]/div[5]/a[3]\")\n",
    "                                pagination.click()\n",
    "                                time.sleep(1)\n",
    "                            except Exception:\n",
    "                                Maker['State'] = State\n",
    "                                Maker['RTO'] = RTO\n",
    "                                Maker['Year'] = Year\n",
    "                                Maker['Vehicle Category'] = vehicle_category\n",
    "                                continue\n",
    "\n",
    "                        #re-click to deselect the element\n",
    "                        driver.find_element(\"xpath\",'/html/body/form/div[2]/div/div/div[3]/div/div[1]/div[2]/div/div/div[1]/div/div/div/table/tbody/tr['+str(each_vehicle_category)+']/td/label').click()\n",
    "                        time.sleep(1)\n",
    "                    except Exception:\n",
    "                        continue\n",
    "                    finally:\n",
    "                        Maker.to_csv(r\"C:\\Users\\AkshitShah\\Downloads\\Vehicle_Make\\Delhi_2\\Vehicle_Make_\"+State+\"_\"+(RTO.split('/')[0])+\"_\"+Year+\"_\"+vehicle_category+\".csv\")         \n",
    "\n",
    "            except Exception:\n",
    "                continue\n",
    "            year_end_time = time.time()\n",
    "            year_time = round(year_end_time - year_start_time,0)\n",
    "            print(\"/////////////\")\n",
    "            print(Year+\" done in time \"+str(year_time))\n",
    "            print(\"/////////////\")\n",
    "        \n",
    "        RTO_end_time = time.time()\n",
    "        RTO_time = round(RTO_end_time - RTO_start_time,0)\n",
    "        print(\"-----------------\")\n",
    "        print(RTO+\" done in time \"+str(RTO_time))\n",
    "        print(\"-----------------\")"
   ]
  },
  {
   "cell_type": "code",
   "execution_count": 152,
   "id": "10791536",
   "metadata": {
    "scrolled": true
   },
   "outputs": [
    {
     "name": "stdout",
     "output_type": "stream",
     "text": [
      "I am in state dropdown\n",
      "I found the state element\n",
      "Andhra Pradesh(79)\n",
      "['-1']\n",
      "['-1', '212']\n",
      "['-1', '212', '204']\n",
      "['-1', '212', '204', '200']\n",
      "['-1', '212', '204', '200', '203']\n",
      "['-1', '212', '204', '200', '203', '1']\n",
      "['-1', '212', '204', '200', '203', '1', '202']\n",
      "['-1', '212', '204', '200', '203', '1', '202', '206']\n",
      "I am in RTO\n",
      "Looping over Year elements\n",
      "Directory Created C:\\Vaahan\\Summary\\Vahan_Maker\\Andhra Pradesh(79)\\Campbell Bay - AN212( 18-FEB-2022 )\n",
      "I clicked refresh button\n",
      "Looping over Year elements\n",
      "Directory Created C:\\Vaahan\\Summary\\Vahan_Maker\\Andhra Pradesh(79)\\Campbell Bay - AN212( 18-FEB-2022 )\n",
      "I clicked refresh button\n",
      "Looping over Year elements\n",
      "Directory Created C:\\Vaahan\\Summary\\Vahan_Maker\\Andhra Pradesh(79)\\Campbell Bay - AN212( 18-FEB-2022 )\n",
      "I clicked refresh button\n",
      "Looping over Year elements\n",
      "Directory Created C:\\Vaahan\\Summary\\Vahan_Maker\\Andhra Pradesh(79)\\Campbell Bay - AN212( 18-FEB-2022 )\n",
      "I clicked refresh button\n",
      "Looping over Year elements\n",
      "Directory Created C:\\Vaahan\\Summary\\Vahan_Maker\\Andhra Pradesh(79)\\Campbell Bay - AN212( 18-FEB-2022 )\n",
      "I clicked refresh button\n",
      "Looping over Year elements\n",
      "Directory Created C:\\Vaahan\\Summary\\Vahan_Maker\\Andhra Pradesh(79)\\Campbell Bay - AN212( 18-FEB-2022 )\n",
      "I clicked refresh button\n",
      "Looping over Year elements\n",
      "Directory Created C:\\Vaahan\\Summary\\Vahan_Maker\\Andhra Pradesh(79)\\Campbell Bay - AN212( 18-FEB-2022 )\n",
      "I clicked refresh button\n",
      "Looping over Year elements\n",
      "Directory Created C:\\Vaahan\\Summary\\Vahan_Maker\\Andhra Pradesh(79)\\Campbell Bay - AN212( 18-FEB-2022 )\n",
      "I clicked refresh button\n",
      "Looping over Year elements\n",
      "Directory Created C:\\Vaahan\\Summary\\Vahan_Maker\\Andhra Pradesh(79)\\Campbell Bay - AN212( 18-FEB-2022 )\n",
      "I clicked refresh button\n",
      "Looping over Year elements\n",
      "Directory Created C:\\Vaahan\\Summary\\Vahan_Maker\\Andhra Pradesh(79)\\Campbell Bay - AN212( 18-FEB-2022 )\n",
      "I clicked refresh button\n",
      "I am in RTO\n",
      "Looping over Year elements\n",
      "Directory Created C:\\Vaahan\\Summary\\Vahan_Maker\\Andhra Pradesh(79)\\Diglipur - AN204( 09-NOV-2021 )\n"
     ]
    },
    {
     "ename": "KeyboardInterrupt",
     "evalue": "",
     "output_type": "error",
     "traceback": [
      "\u001b[1;31m---------------------------------------------------------------------------\u001b[0m",
      "\u001b[1;31mKeyboardInterrupt\u001b[0m                         Traceback (most recent call last)",
      "Input \u001b[1;32mIn [152]\u001b[0m, in \u001b[0;36m<cell line: 1>\u001b[1;34m()\u001b[0m\n\u001b[0;32m     60\u001b[0m \u001b[38;5;28;01mfinally\u001b[39;00m:\n\u001b[0;32m     61\u001b[0m     driver\u001b[38;5;241m.\u001b[39mfind_element(\u001b[38;5;124m\"\u001b[39m\u001b[38;5;124mxpath\u001b[39m\u001b[38;5;124m\"\u001b[39m,\u001b[38;5;124m'\u001b[39m\u001b[38;5;124m/html/body/form/div[2]/div/div/div[1]/div[3]/div[3]/div/button/span[2]\u001b[39m\u001b[38;5;124m'\u001b[39m)\u001b[38;5;241m.\u001b[39mclick()\n\u001b[1;32m---> 62\u001b[0m     \u001b[43mtime\u001b[49m\u001b[38;5;241;43m.\u001b[39;49m\u001b[43msleep\u001b[49m\u001b[43m(\u001b[49m\u001b[38;5;241;43m3\u001b[39;49m\u001b[43m)\u001b[49m\n\u001b[0;32m     63\u001b[0m     \u001b[38;5;28mprint\u001b[39m(\u001b[38;5;124m\"\u001b[39m\u001b[38;5;124mI clicked refresh button\u001b[39m\u001b[38;5;124m\"\u001b[39m)\n\u001b[0;32m     65\u001b[0m     Records\u001b[38;5;241m=\u001b[39mdriver\u001b[38;5;241m.\u001b[39mfind_element(\u001b[38;5;124m\"\u001b[39m\u001b[38;5;124mxpath\u001b[39m\u001b[38;5;124m\"\u001b[39m,\u001b[38;5;124m\"\u001b[39m\u001b[38;5;124m/html/body/form/div[2]/div/div/div[3]/div/div[2]/div/div/div[1]/div[1]/a/img\u001b[39m\u001b[38;5;124m\"\u001b[39m)\n",
      "\u001b[1;31mKeyboardInterrupt\u001b[0m: "
     ]
    }
   ],
   "source": [
    "# Block 2\n",
    "#This script mines RTO wise Vehicle Make wise month wise New vehicle registration data for calander year 2022-2013\n",
    "\n",
    "#Select Y-axis\n",
    "Y_axis_dropdown=driver.find_element('xpath','/html/body/form/div[2]/div/div/div[1]/div[3]/div[2]/div[1]/div[1]/div/div[3]/span')\n",
    "driver.execute_script(\"arguments[0].click();\", Y_axis_dropdown)\n",
    "print(\"I am in Y-axis dropdown,clicked maker\")\n",
    "time.sleep(2)\n",
    "driver.find_element(\"id\",\"yaxisVar_4\").click() #click on the 'Maker'\n",
    "Y_axis_element = driver.find_element(\"id\",\"yaxisVar_4\").text\n",
    "print(\"Y-axis element \"+str(Y_axis_element)+\" selected.\")\n",
    "time.sleep(2)\n",
    "\n",
    "#Select x-axis\n",
    "X_axis_dropdown=driver.find_element(\"xpath\",'/html/body/form/div[2]/div/div/div[1]/div[3]/div[2]/div[1]/div[2]/div/div[3]')\n",
    "driver.execute_script(\"arguments[0].click();\", X_axis_dropdown)\n",
    "print(\"I am in X-axis dropdown\")\n",
    "time.sleep(2)\n",
    "driver.find_element(\"id\",'xaxisVar_6').click() #click 'Vehicle category'\n",
    "X_axis_element = driver.find_element(\"id\",'xaxisVar_6').text\n",
    "print(\"x-axis element \"+str(X_axis_element)+\" selected.\")\n",
    "time.sleep(2)\n",
    "\n",
    "# #Select year\n",
    "# year_dropdown = driver.find_element(\"xpath\",'/html/body/form/div[2]/div/div/div[1]/div[3]/div[2]/div[2]/div[2]/div/div[3]')\n",
    "# driver.execute_script(\"arguments[0].click();\", year_dropdown)\n",
    "# print(\"I am in year dropdown\")\n",
    "# time.sleep(2)\n",
    "# Year = driver.find_element(\"id\",'selectedYear_2').text\n",
    "# driver.find_element(\"id\",'selectedYear_1').click()# Select '2022'\n",
    "# print(Year)\n",
    "# time.sleep(2)\n",
    "\n",
    "State_click_range = [int(i) for i in range(10,11)] #dropdown click start from '2'\n",
    "\n",
    "for each_state in State_click_range:\n",
    "    try:\n",
    "        State_dropdown = driver.find_element(\"xpath\",\"/html/body/form/div[2]/div/div/div[1]/div[2]/div[3]/div/div[3]\")\n",
    "        driver.execute_script(\"arguments[0].click();\",State_dropdown)\n",
    "        State=driver.find_element(\"id\",\"j_idt31_\"+str(each_state-1)).text\n",
    "        print(State)\n",
    "        dropdown_option = WebDriverWait(driver,15).until(EC.presence_of_element_located((By.XPATH, \"//html/body/div[3]/div/ul/li[\"+str(each_state)+\"]\")))\n",
    "        dropdown_option.click()\n",
    "        time.sleep(2)\n",
    "\n",
    "    except Exception as e:\n",
    "        print(e)\n",
    "        continue\n",
    "    \n",
    "    options = []\n",
    "    State_RTO_List = driver.find_element(\"id\",'selectedRto_input')\n",
    "    for option in State_RTO_List.find_elements(\"tag name\",'option'):\n",
    "        options.append(option.get_attribute(\"value\"))\n",
    "        \n",
    "\n",
    "    for each_RTO in  range(1,len(options)):\n",
    "        try:\n",
    "            dropdown_trigger_rto = driver.find_element(\"xpath\",'/html/body/form/div[2]/div/div/div[1]/div[2]/div[4]/div/div[3]').click()\n",
    "            RTO=driver.find_element(\"id\",\"selectedRto_\"+ str(each_RTO)).text\n",
    "            driver.find_element(\"id\",\"selectedRto_\"+ str(each_RTO)).click()\n",
    "            print(RTO)\n",
    "            time.sleep(1)\n",
    "        except Exception:\n",
    "            continue\n",
    "        year_range = [int(y) for y in range(1,11)] #1=2022 to 10=2013\n",
    "        for each_year in year_range:\n",
    "            try:\n",
    "                Year_dropdown=driver.find_element(\"xpath\",'/html/body/form/div[2]/div/div/div[1]/div[3]/div[2]/div[2]/div[2]/div/div[3]')\n",
    "                driver.execute_script(\"arguments[0].click();\", Year_dropdown)\n",
    "                Year=driver.find_element(\"id\",\"selectedYear_\"+str(each_year)).text\n",
    "                driver.find_element(\"id\",\"selectedYear_\"+str(each_year)).click()\n",
    "                print(Year)\n",
    "                \n",
    "                #Click Refresh\n",
    "                driver.find_element(\"xpath\",'/html/body/form/div[2]/div/div/div[1]/div[3]/div[3]/div/button').click() \n",
    "                time.sleep(2)\n",
    "                \n",
    "                #Creating the Soup using BS4 and getting all the tables from the html\n",
    "                soup = BeautifulSoup(driver.page_source, 'lxml')\n",
    "                tables = soup.find_all('table')\n",
    "                 dfs = pd.read_html(str(tables))\n",
    "                Maker = pd.DataFrame(columns = dfs[5].columns)\n",
    "                pages = len(soup.find('span',class_=\"ui-paginator-pages\").text)\n",
    "\n",
    "                for each_page in range(0,pages):\n",
    "\n",
    "                    try:\n",
    "                        soup = BeautifulSoup(driver.page_source, 'lxml')\n",
    "                        tables = soup.find_all('table')\n",
    "                        dfs = pd.read_html(str(tables))\n",
    "                        Maker = Maker.append(dfs[5])\n",
    "                        pagination = driver.find_element(\"xpath\",\"/html/body/form/div[2]/div/div/div[3]/div/div[2]/div/div/div[1]/div[5]/a[3]\")\n",
    "                        pagination.click()\n",
    "                        time.sleep(1)\n",
    "                    except Exception:\n",
    "                        Maker['State'] = State\n",
    "                        Maker['RTO'] = RTO\n",
    "                        Maker['Year'] = Year\n",
    "                        continue\n",
    "\n",
    "            except Exception:\n",
    "                continue\n",
    "                \n",
    "            finally:\n",
    "                Maker.to_csv(r\"C:\\Users\\AkshitShah\\Downloads\\Vehicle_Make\"+State+(RTO.split('/')[0])+Year\".csv\")\n"
   ]
  },
  {
   "cell_type": "code",
   "execution_count": 90,
   "id": "3463623f",
   "metadata": {},
   "outputs": [
    {
     "name": "stdout",
     "output_type": "stream",
     "text": [
      "I am in Y-axis dropdown,clicked maker\n",
      "Y-axis element  selected.\n",
      "I am in X-axis dropdown\n",
      "x-axis element  selected.\n",
      "I am in year dropdown\n",
      "Year type  selected\n",
      "I am in year dropdown\n",
      "2021-2022\n",
      "Delhi(23)\n",
      "BURARI AUTO UNIT - DL53( 08-APR-2016 )\n"
     ]
    },
    {
     "name": "stderr",
     "output_type": "stream",
     "text": [
      "<ipython-input-90-9d33964dac6a>:94: FutureWarning: The frame.append method is deprecated and will be removed from pandas in a future version. Use pandas.concat instead.\n",
      "  Maker = Maker.append(dfs[5])\n"
     ]
    },
    {
     "name": "stdout",
     "output_type": "stream",
     "text": [
      "BURARI AUTO UNIT - DL53( 08-APR-2016 ) is done in time 4.0\n",
      "BURARI TAXI UNIT - DL52( 08-APR-2016 )\n"
     ]
    },
    {
     "name": "stderr",
     "output_type": "stream",
     "text": [
      "<ipython-input-90-9d33964dac6a>:94: FutureWarning: The frame.append method is deprecated and will be removed from pandas in a future version. Use pandas.concat instead.\n",
      "  Maker = Maker.append(dfs[5])\n"
     ]
    },
    {
     "name": "stdout",
     "output_type": "stream",
     "text": [
      "BURARI TAXI UNIT - DL52( 08-APR-2016 ) is done in time 4.16\n",
      "DWARKA - DL9( 28-JUL-2015 )\n"
     ]
    },
    {
     "name": "stderr",
     "output_type": "stream",
     "text": [
      "<ipython-input-90-9d33964dac6a>:94: FutureWarning: The frame.append method is deprecated and will be removed from pandas in a future version. Use pandas.concat instead.\n",
      "  Maker = Maker.append(dfs[5])\n",
      "<ipython-input-90-9d33964dac6a>:94: FutureWarning: The frame.append method is deprecated and will be removed from pandas in a future version. Use pandas.concat instead.\n",
      "  Maker = Maker.append(dfs[5])\n",
      "<ipython-input-90-9d33964dac6a>:94: FutureWarning: The frame.append method is deprecated and will be removed from pandas in a future version. Use pandas.concat instead.\n",
      "  Maker = Maker.append(dfs[5])\n"
     ]
    },
    {
     "name": "stdout",
     "output_type": "stream",
     "text": [
      "DWARKA - DL9( 28-JUL-2015 ) is done in time 8.76\n",
      "I P ESTATE - DL2( 01-JUN-2015 )\n"
     ]
    },
    {
     "name": "stderr",
     "output_type": "stream",
     "text": [
      "<ipython-input-90-9d33964dac6a>:94: FutureWarning: The frame.append method is deprecated and will be removed from pandas in a future version. Use pandas.concat instead.\n",
      "  Maker = Maker.append(dfs[5])\n",
      "<ipython-input-90-9d33964dac6a>:94: FutureWarning: The frame.append method is deprecated and will be removed from pandas in a future version. Use pandas.concat instead.\n",
      "  Maker = Maker.append(dfs[5])\n"
     ]
    },
    {
     "name": "stdout",
     "output_type": "stream",
     "text": [
      "I P ESTATE - DL2( 01-JUN-2015 ) is done in time 6.59\n",
      "JANAKPURI - DL4( 24-JUL-2015 )\n"
     ]
    },
    {
     "name": "stderr",
     "output_type": "stream",
     "text": [
      "<ipython-input-90-9d33964dac6a>:94: FutureWarning: The frame.append method is deprecated and will be removed from pandas in a future version. Use pandas.concat instead.\n",
      "  Maker = Maker.append(dfs[5])\n",
      "<ipython-input-90-9d33964dac6a>:94: FutureWarning: The frame.append method is deprecated and will be removed from pandas in a future version. Use pandas.concat instead.\n",
      "  Maker = Maker.append(dfs[5])\n",
      "<ipython-input-90-9d33964dac6a>:94: FutureWarning: The frame.append method is deprecated and will be removed from pandas in a future version. Use pandas.concat instead.\n",
      "  Maker = Maker.append(dfs[5])\n"
     ]
    },
    {
     "name": "stdout",
     "output_type": "stream",
     "text": [
      "JANAKPURI - DL4( 24-JUL-2015 ) is done in time 9.07\n",
      "JHULJHULI FITNESS CENTER - DL207( 19-JUN-2017 )\n",
      "JHULJHULI FITNESS CENTER - DL207( 19-JUN-2017 ) is done in time 2.66\n",
      "KAIR CLUSTER BUS FITNESS CENTER - DL205( 18-JAN-2017 )\n",
      "KAIR CLUSTER BUS FITNESS CENTER - DL205( 18-JAN-2017 ) is done in time 2.73\n",
      "KUSHAKNALA CLUSTER BUS FITNESS CENTER - DL206( 18-JAN-2017 )\n",
      "KUSHAKNALA CLUSTER BUS FITNESS CENTER - DL206( 18-JAN-2017 ) is done in time 2.67\n",
      "LADO SARAI FITNESS CENTER - DL201( 18-JAN-2017 )\n",
      "LADO SARAI FITNESS CENTER - DL201( 18-JAN-2017 ) is done in time 2.53\n",
      "LONI ROAD - DL5( 09-SEP-2015 )\n"
     ]
    },
    {
     "name": "stderr",
     "output_type": "stream",
     "text": [
      "<ipython-input-90-9d33964dac6a>:94: FutureWarning: The frame.append method is deprecated and will be removed from pandas in a future version. Use pandas.concat instead.\n",
      "  Maker = Maker.append(dfs[5])\n",
      "<ipython-input-90-9d33964dac6a>:94: FutureWarning: The frame.append method is deprecated and will be removed from pandas in a future version. Use pandas.concat instead.\n",
      "  Maker = Maker.append(dfs[5])\n",
      "<ipython-input-90-9d33964dac6a>:94: FutureWarning: The frame.append method is deprecated and will be removed from pandas in a future version. Use pandas.concat instead.\n",
      "  Maker = Maker.append(dfs[5])\n"
     ]
    },
    {
     "name": "stdout",
     "output_type": "stream",
     "text": [
      "LONI ROAD - DL5( 09-SEP-2015 ) is done in time 8.78\n",
      "MALL ROAD - DL1( 12-OCT-2015 )\n"
     ]
    },
    {
     "name": "stderr",
     "output_type": "stream",
     "text": [
      "<ipython-input-90-9d33964dac6a>:94: FutureWarning: The frame.append method is deprecated and will be removed from pandas in a future version. Use pandas.concat instead.\n",
      "  Maker = Maker.append(dfs[5])\n",
      "<ipython-input-90-9d33964dac6a>:94: FutureWarning: The frame.append method is deprecated and will be removed from pandas in a future version. Use pandas.concat instead.\n",
      "  Maker = Maker.append(dfs[5])\n"
     ]
    },
    {
     "name": "stdout",
     "output_type": "stream",
     "text": [
      "MALL ROAD - DL1( 12-OCT-2015 ) is done in time 6.65\n",
      "MAYUR VIHAR - DL7( 29-JUN-2015 )\n"
     ]
    },
    {
     "name": "stderr",
     "output_type": "stream",
     "text": [
      "<ipython-input-90-9d33964dac6a>:94: FutureWarning: The frame.append method is deprecated and will be removed from pandas in a future version. Use pandas.concat instead.\n",
      "  Maker = Maker.append(dfs[5])\n",
      "<ipython-input-90-9d33964dac6a>:94: FutureWarning: The frame.append method is deprecated and will be removed from pandas in a future version. Use pandas.concat instead.\n",
      "  Maker = Maker.append(dfs[5])\n"
     ]
    },
    {
     "name": "stdout",
     "output_type": "stream",
     "text": [
      "MAYUR VIHAR - DL7( 29-JUN-2015 ) is done in time 6.5\n",
      "RAJA GARDEN FITNESS CENTER - DL204( 18-JAN-2017 )\n",
      "RAJA GARDEN FITNESS CENTER - DL204( 18-JAN-2017 ) is done in time 2.76\n",
      "RAJOURI GARDEN - DL10( 12-AUG-2015 )\n"
     ]
    },
    {
     "name": "stderr",
     "output_type": "stream",
     "text": [
      "<ipython-input-90-9d33964dac6a>:94: FutureWarning: The frame.append method is deprecated and will be removed from pandas in a future version. Use pandas.concat instead.\n",
      "  Maker = Maker.append(dfs[5])\n",
      "<ipython-input-90-9d33964dac6a>:94: FutureWarning: The frame.append method is deprecated and will be removed from pandas in a future version. Use pandas.concat instead.\n",
      "  Maker = Maker.append(dfs[5])\n",
      "<ipython-input-90-9d33964dac6a>:94: FutureWarning: The frame.append method is deprecated and will be removed from pandas in a future version. Use pandas.concat instead.\n",
      "  Maker = Maker.append(dfs[5])\n"
     ]
    },
    {
     "name": "stdout",
     "output_type": "stream",
     "text": [
      "RAJOURI GARDEN - DL10( 12-AUG-2015 ) is done in time 8.9\n",
      "RAJPUR ROAD/VIU BURARI - DL51( 08-APR-2016 )\n"
     ]
    },
    {
     "name": "stderr",
     "output_type": "stream",
     "text": [
      "<ipython-input-90-9d33964dac6a>:94: FutureWarning: The frame.append method is deprecated and will be removed from pandas in a future version. Use pandas.concat instead.\n",
      "  Maker = Maker.append(dfs[5])\n",
      "<ipython-input-90-9d33964dac6a>:94: FutureWarning: The frame.append method is deprecated and will be removed from pandas in a future version. Use pandas.concat instead.\n",
      "  Maker = Maker.append(dfs[5])\n"
     ]
    },
    {
     "name": "stdout",
     "output_type": "stream",
     "text": [
      "RAJPUR ROAD/VIU BURARI - DL51( 08-APR-2016 ) is done in time 6.23\n",
      "ROHINI - DL11( 14-AUG-2015 )\n"
     ]
    },
    {
     "name": "stderr",
     "output_type": "stream",
     "text": [
      "<ipython-input-90-9d33964dac6a>:94: FutureWarning: The frame.append method is deprecated and will be removed from pandas in a future version. Use pandas.concat instead.\n",
      "  Maker = Maker.append(dfs[5])\n",
      "<ipython-input-90-9d33964dac6a>:94: FutureWarning: The frame.append method is deprecated and will be removed from pandas in a future version. Use pandas.concat instead.\n",
      "  Maker = Maker.append(dfs[5])\n",
      "<ipython-input-90-9d33964dac6a>:94: FutureWarning: The frame.append method is deprecated and will be removed from pandas in a future version. Use pandas.concat instead.\n",
      "  Maker = Maker.append(dfs[5])\n"
     ]
    },
    {
     "name": "stdout",
     "output_type": "stream",
     "text": [
      "ROHINI - DL11( 14-AUG-2015 ) is done in time 9.31\n",
      "SARAI KALE KHAN - DL6( 10-SEP-2015 )\n"
     ]
    },
    {
     "name": "stderr",
     "output_type": "stream",
     "text": [
      "<ipython-input-90-9d33964dac6a>:94: FutureWarning: The frame.append method is deprecated and will be removed from pandas in a future version. Use pandas.concat instead.\n",
      "  Maker = Maker.append(dfs[5])\n",
      "<ipython-input-90-9d33964dac6a>:94: FutureWarning: The frame.append method is deprecated and will be removed from pandas in a future version. Use pandas.concat instead.\n",
      "  Maker = Maker.append(dfs[5])\n"
     ]
    },
    {
     "name": "stdout",
     "output_type": "stream",
     "text": [
      "SARAI KALE KHAN - DL6( 10-SEP-2015 ) is done in time 6.56\n",
      "SHAKUR BASTI FITNESS CENTER - DL202( 18-JAN-2017 )\n",
      "SHAKUR BASTI FITNESS CENTER - DL202( 18-JAN-2017 ) is done in time 2.74\n",
      "SOUTH DELHI - DL3( 15-SEP-2015 )\n"
     ]
    },
    {
     "name": "stderr",
     "output_type": "stream",
     "text": [
      "<ipython-input-90-9d33964dac6a>:94: FutureWarning: The frame.append method is deprecated and will be removed from pandas in a future version. Use pandas.concat instead.\n",
      "  Maker = Maker.append(dfs[5])\n",
      "<ipython-input-90-9d33964dac6a>:94: FutureWarning: The frame.append method is deprecated and will be removed from pandas in a future version. Use pandas.concat instead.\n",
      "  Maker = Maker.append(dfs[5])\n",
      "<ipython-input-90-9d33964dac6a>:94: FutureWarning: The frame.append method is deprecated and will be removed from pandas in a future version. Use pandas.concat instead.\n",
      "  Maker = Maker.append(dfs[5])\n"
     ]
    },
    {
     "name": "stdout",
     "output_type": "stream",
     "text": [
      "SOUTH DELHI - DL3( 15-SEP-2015 ) is done in time 8.55\n",
      "SURAJMAL VIHAR - DL13( 26-JUN-2015 )\n"
     ]
    },
    {
     "name": "stderr",
     "output_type": "stream",
     "text": [
      "<ipython-input-90-9d33964dac6a>:94: FutureWarning: The frame.append method is deprecated and will be removed from pandas in a future version. Use pandas.concat instead.\n",
      "  Maker = Maker.append(dfs[5])\n",
      "<ipython-input-90-9d33964dac6a>:94: FutureWarning: The frame.append method is deprecated and will be removed from pandas in a future version. Use pandas.concat instead.\n",
      "  Maker = Maker.append(dfs[5])\n"
     ]
    },
    {
     "name": "stdout",
     "output_type": "stream",
     "text": [
      "SURAJMAL VIHAR - DL13( 26-JUN-2015 ) is done in time 6.55\n",
      "VASANT VIHAR - DL12( 01-JUN-2015 )\n"
     ]
    },
    {
     "name": "stderr",
     "output_type": "stream",
     "text": [
      "<ipython-input-90-9d33964dac6a>:94: FutureWarning: The frame.append method is deprecated and will be removed from pandas in a future version. Use pandas.concat instead.\n",
      "  Maker = Maker.append(dfs[5])\n",
      "<ipython-input-90-9d33964dac6a>:94: FutureWarning: The frame.append method is deprecated and will be removed from pandas in a future version. Use pandas.concat instead.\n",
      "  Maker = Maker.append(dfs[5])\n"
     ]
    },
    {
     "name": "stdout",
     "output_type": "stream",
     "text": [
      "VASANT VIHAR - DL12( 01-JUN-2015 ) is done in time 6.45\n",
      "VISHWAS NAGAR FITNESS CENTER - DL203( 18-JAN-2017 )\n",
      "VISHWAS NAGAR FITNESS CENTER - DL203( 18-JAN-2017 ) is done in time 2.75\n",
      "WAZIRPUR - DL8( 17-SEP-2015 )\n"
     ]
    },
    {
     "name": "stderr",
     "output_type": "stream",
     "text": [
      "<ipython-input-90-9d33964dac6a>:94: FutureWarning: The frame.append method is deprecated and will be removed from pandas in a future version. Use pandas.concat instead.\n",
      "  Maker = Maker.append(dfs[5])\n",
      "<ipython-input-90-9d33964dac6a>:94: FutureWarning: The frame.append method is deprecated and will be removed from pandas in a future version. Use pandas.concat instead.\n",
      "  Maker = Maker.append(dfs[5])\n",
      "<ipython-input-90-9d33964dac6a>:94: FutureWarning: The frame.append method is deprecated and will be removed from pandas in a future version. Use pandas.concat instead.\n",
      "  Maker = Maker.append(dfs[5])\n"
     ]
    },
    {
     "name": "stdout",
     "output_type": "stream",
     "text": [
      "WAZIRPUR - DL8( 17-SEP-2015 ) is done in time 8.88\n",
      "Delhi(23) is done in time 137.71\n"
     ]
    }
   ],
   "source": [
    "#Block 3\n",
    "#This script mines RTO wise Vehicle Make wise Vehicle category wise New vehicle registration data for entire financial year 2021-2022\n",
    "\n",
    "#Select Y-axis\n",
    "Y_axis_dropdown=driver.find_element('xpath','/html/body/form/div[2]/div/div/div[1]/div[3]/div[2]/div[1]/div[1]/div/div[3]/span')\n",
    "driver.execute_script(\"arguments[0].click();\", Y_axis_dropdown)\n",
    "print(\"I am in Y-axis dropdown,clicked maker\")\n",
    "time.sleep(2)\n",
    "driver.find_element(\"id\",\"yaxisVar_4\").click() #click on the 'Maker'\n",
    "Y_axis_element = driver.find_element(\"id\",\"yaxisVar_4\").text\n",
    "print(\"Y-axis element \"+str(Y_axis_element)+\" selected.\")\n",
    "time.sleep(2)\n",
    "\n",
    "#Select x-axis\n",
    "X_axis_dropdown=driver.find_element(\"xpath\",'/html/body/form/div[2]/div/div/div[1]/div[3]/div[2]/div[1]/div[2]/div/div[3]')\n",
    "driver.execute_script(\"arguments[0].click();\", X_axis_dropdown)\n",
    "print(\"I am in X-axis dropdown\")\n",
    "time.sleep(2)\n",
    "driver.find_element(\"id\",'xaxisVar_0').click() #click 'Vehicle category'\n",
    "X_axis_element = driver.find_element(\"id\",'xaxisVar_0').text\n",
    "print(\"x-axis element \"+str(X_axis_element)+\" selected.\")\n",
    "time.sleep(2)\n",
    "\n",
    "#Select Year_Type:\n",
    "year_type_dropdown=driver.find_element(\"xpath\",'/html/body/form/div[2]/div/div/div[1]/div[3]/div[2]/div[2]/div[1]/div/div[3]')\n",
    "driver.execute_script(\"arguments[0].click();\", year_type_dropdown)\n",
    "print(\"I am in year dropdown\")\n",
    "time.sleep(2)\n",
    "driver.find_element(\"id\",'selectedYearType_1').click()# Select 'Financial year'\n",
    "year_type_element = driver.find_element(\"id\",'selectedYearType_1').text\n",
    "print(\"Year type \"+str(year_type_element)+\" selected\")\n",
    "time.sleep(2)\n",
    "\n",
    "#Select year\n",
    "year_dropdown = driver.find_element(\"xpath\",'/html/body/form/div[2]/div/div/div[1]/div[3]/div[2]/div[2]/div[2]/div/div[3]')\n",
    "driver.execute_script(\"arguments[0].click();\", year_dropdown)\n",
    "print(\"I am in year dropdown\")\n",
    "time.sleep(2)\n",
    "Year = driver.find_element(\"id\",'selectedYear_2').text\n",
    "driver.find_element(\"id\",'selectedYear_2').click()# Select '2021-2022'\n",
    "print(Year)\n",
    "time.sleep(2)\n",
    "\n",
    "State_click_range = [int(i) for i in range(2,11)] #dropdown click start from '2'\n",
    "\n",
    "for each_state in State_click_range:\n",
    "    state_start_time = time.time()\n",
    "    try:\n",
    "        State_dropdown = driver.find_element(\"xpath\",\"/html/body/form/div[2]/div/div/div[1]/div[2]/div[3]/div/div[3]\")\n",
    "        driver.execute_script(\"arguments[0].click();\",State_dropdown)\n",
    "        State=driver.find_element(\"id\",\"j_idt51_\"+str((each_state)-1)).text\n",
    "        dropdown_option = WebDriverWait(driver,15).until(EC.presence_of_element_located((By.XPATH, \"//html/body/div[3]/div/ul/li[\"+str(each_state)+\"]\")))\n",
    "        dropdown_option.click()\n",
    "        print(State)\n",
    "        time.sleep(2)\n",
    "\n",
    "    except Exception as e:\n",
    "        print(e)\n",
    "        continue\n",
    "    \n",
    "    options = []\n",
    "    State_RTO_List = driver.find_element(\"id\",'selectedRto_input')\n",
    "    for option in State_RTO_List.find_elements(\"tag name\",'option'):\n",
    "        options.append(option.get_attribute(\"value\"))\n",
    "        #print(options)\n",
    "\n",
    "    for each_RTO in  range(1,len(options)):\n",
    "        RTO_start_time = time.time()\n",
    "        try:\n",
    "\n",
    "            dropdown_trigger_rto = driver.find_element(\"xpath\",'/html/body/form/div[2]/div/div/div[1]/div[2]/div[4]/div/div[3]').click()\n",
    "            RTO=driver.find_element(\"id\",\"selectedRto_\"+ str(each_RTO)).text\n",
    "            #RTO=RTO.split('/')[0] if type(RTO.find('/')) is int else RTO\n",
    "            #print(\"I am in RTO\")\n",
    "            driver.find_element(\"id\",\"selectedRto_\"+ str(each_RTO)).click()\n",
    "            print(RTO)\n",
    "            time.sleep(1)\n",
    "            \n",
    "            #Click Refresh\n",
    "            driver.find_element(\"xpath\",'/html/body/form/div[2]/div/div/div[1]/div[3]/div[3]/div/button').click() \n",
    "            time.sleep(1)\n",
    "            \n",
    "            #Creating the Soup using BS4 and getting all the tables from the html\n",
    "            soup = BeautifulSoup(driver.page_source, 'lxml')\n",
    "            tables = soup.find_all('table')\n",
    "            dfs = pd.read_html(str(tables))\n",
    "            Maker = pd.DataFrame(columns = dfs[5].columns)\n",
    "            pages = len(soup.find('span',class_=\"ui-paginator-pages\").text)\n",
    "\n",
    "            for each_page in range(0,pages):\n",
    "\n",
    "                try:\n",
    "                    soup = BeautifulSoup(driver.page_source, 'lxml')\n",
    "                    tables = soup.find_all('table')\n",
    "                    dfs = pd.read_html(str(tables))\n",
    "                    Maker = Maker.append(dfs[5])\n",
    "                    pagination = driver.find_element(\"xpath\",\"/html/body/form/div[2]/div/div/div[3]/div/div[2]/div/div/div[1]/div[5]/a[3]\")\n",
    "                    pagination.click()\n",
    "                    time.sleep(2)\n",
    "                except Exception:\n",
    "                    Maker['State'] = State\n",
    "                    Maker['RTO'] = RTO\n",
    "                    Maker['Year'] = Year\n",
    "                    continue\n",
    "                    \n",
    "        except Exception:\n",
    "            continue\n",
    "        finally:\n",
    "            Maker.to_csv(r\"C:\\Users\\AkshitShah\\Downloads\\Vehicle_Make\\Vehicle_Make\"+State+\"_\"+(RTO.split('/')[0])+\"_\"+Year+\".csv\")\n",
    "            \n",
    "            RTO_end_time = time.time()\n",
    "            RTO_time = round(RTO_end_time - RTO_start_time,2)\n",
    "            print(RTO+\" is done in time \"+str(RTO_time))\n",
    "\n",
    "    state_end_time = time.time()\n",
    "    state_time = round(state_end_time - state_start_time,2)\n",
    "    print(State+\" is done in time \"+str(state_time))"
   ]
  },
  {
   "cell_type": "code",
   "execution_count": null,
   "id": "4778718f",
   "metadata": {},
   "outputs": [],
   "source": []
  }
 ],
 "metadata": {
  "kernelspec": {
   "display_name": "Python 3 (ipykernel)",
   "language": "python",
   "name": "python3"
  },
  "language_info": {
   "codemirror_mode": {
    "name": "ipython",
    "version": 3
   },
   "file_extension": ".py",
   "mimetype": "text/x-python",
   "name": "python",
   "nbconvert_exporter": "python",
   "pygments_lexer": "ipython3",
   "version": "3.11.7"
  }
 },
 "nbformat": 4,
 "nbformat_minor": 5
}
